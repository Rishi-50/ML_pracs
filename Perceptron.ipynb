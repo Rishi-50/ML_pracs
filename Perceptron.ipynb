{
 "cells": [
  {
   "cell_type": "code",
   "execution_count": 13,
   "metadata": {},
   "outputs": [],
   "source": [
    "import numpy as np\n",
    "import pandas as pd"
   ]
  },
  {
   "cell_type": "code",
   "execution_count": 16,
   "metadata": {},
   "outputs": [],
   "source": [
    "class Perceptron:\n",
    "  def __init__(self,weights,learning_rate=0.01,epochs=100):\n",
    "    self.weights = np.random.rand(weights)\n",
    "    self.bias = np.random.rand()\n",
    "    self.learning_rate = learning_rate\n",
    "    self.epochs = epochs\n",
    "\n",
    "  def activate(self,x):\n",
    "    if(x>=0):\n",
    "      return 1\n",
    "    else:\n",
    "      return 0\n",
    "\n",
    "  def train(self,X,y):\n",
    "    for e in range(self.epochs):\n",
    "      for i in range(len(X)):\n",
    "        prediction = self.activate(np.dot(X[i],self.weights)+self.bias)\n",
    "        error = y[i] - prediction\n",
    "        self.weights = self.weights + self.learning_rate*error*X[i]\n",
    "        self.bias = self.bias + self.learning_rate*error\n",
    "\n",
    "  def predict(self,X):\n",
    "    result = []\n",
    "    for i in range(len(X)):\n",
    "        prediction = self.activate(np.dot(X[i],self.weights)+self.bias)\n",
    "        result.append(prediction)\n",
    "    return result"
   ]
  },
  {
   "cell_type": "code",
   "execution_count": 18,
   "metadata": {},
   "outputs": [
    {
     "name": "stdout",
     "output_type": "stream",
     "text": [
      "Predictions are:\n",
      "[0, 1, 1, 1]\n"
     ]
    }
   ],
   "source": [
    "# OR Gate\n",
    "X = np.array([[0,0],[0,1],[1,0],[1,1]])\n",
    "y = np.array([0,1,1,1])\n",
    "\n",
    "p = Perceptron(weights=2)\n",
    "p.train(X,y)\n",
    "\n",
    "print('Predictions are:')\n",
    "print(p.predict(X))"
   ]
  },
  {
   "cell_type": "code",
   "execution_count": 20,
   "metadata": {},
   "outputs": [
    {
     "name": "stdout",
     "output_type": "stream",
     "text": [
      "Predictions are:\n",
      "[1, 1, 1, 0]\n"
     ]
    }
   ],
   "source": [
    "# NAND GATE\n",
    "X = np.array([[0,0],[0,1],[1,0],[1,1]])\n",
    "y = np.array([1,1,1,0])\n",
    "\n",
    "p = Perceptron(weights=2)\n",
    "p.train(X,y)\n",
    "\n",
    "print('Predictions are:')\n",
    "print(p.predict(X))"
   ]
  },
  {
   "cell_type": "code",
   "execution_count": null,
   "metadata": {},
   "outputs": [],
   "source": []
  }
 ],
 "metadata": {
  "kernelspec": {
   "display_name": "Python 3",
   "language": "python",
   "name": "python3"
  },
  "language_info": {
   "codemirror_mode": {
    "name": "ipython",
    "version": 3
   },
   "file_extension": ".py",
   "mimetype": "text/x-python",
   "name": "python",
   "nbconvert_exporter": "python",
   "pygments_lexer": "ipython3",
   "version": "3.11.0"
  }
 },
 "nbformat": 4,
 "nbformat_minor": 2
}
